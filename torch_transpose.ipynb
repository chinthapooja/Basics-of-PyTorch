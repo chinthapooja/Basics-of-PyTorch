{
  "nbformat": 4,
  "nbformat_minor": 0,
  "metadata": {
    "colab": {
      "provenance": []
    },
    "kernelspec": {
      "name": "python3",
      "display_name": "Python 3"
    },
    "language_info": {
      "name": "python"
    }
  },
  "cells": [
    {
      "cell_type": "code",
      "execution_count": null,
      "metadata": {
        "id": "66ZdETtOrcUT"
      },
      "outputs": [],
      "source": [
        "import torch\n",
        "import torch.nn as nn"
      ]
    },
    {
      "cell_type": "code",
      "source": [
        "x = torch.randn(2, 3)\n",
        "x,torch.transpose(x, 0, 1)"
      ],
      "metadata": {
        "colab": {
          "base_uri": "https://localhost:8080/"
        },
        "id": "Mpmx4TyKuf5S",
        "outputId": "98bab4b9-5d2a-4ca2-f90a-b98172cf61ce"
      },
      "execution_count": null,
      "outputs": [
        {
          "output_type": "execute_result",
          "data": {
            "text/plain": [
              "(tensor([[-0.3097,  1.4207, -1.0598],\n",
              "         [ 0.2545,  0.3161,  0.1999]]),\n",
              " tensor([[-0.3097,  0.2545],\n",
              "         [ 1.4207,  0.3161],\n",
              "         [-1.0598,  0.1999]]))"
            ]
          },
          "metadata": {},
          "execution_count": 2
        }
      ]
    },
    {
      "cell_type": "code",
      "source": [
        "x = torch.randn(2, 3,4)\n",
        "\n",
        "x,torch.transpose(x, 0, 1)"
      ],
      "metadata": {
        "id": "yvKWLvELuhkm",
        "outputId": "8ecedcf8-4ff0-4eba-8ccc-177f4b206930",
        "colab": {
          "base_uri": "https://localhost:8080/"
        }
      },
      "execution_count": null,
      "outputs": [
        {
          "output_type": "execute_result",
          "data": {
            "text/plain": [
              "(tensor([[[-0.0057,  0.4720,  0.9030,  0.2891],\n",
              "          [ 3.0144,  2.5445,  0.0621,  1.4230],\n",
              "          [-0.7559,  1.0859, -0.7060, -0.2135]],\n",
              " \n",
              "         [[-0.5132,  0.5103, -0.9168,  0.1837],\n",
              "          [ 1.9739, -0.6299, -1.3949, -1.2555],\n",
              "          [-1.5860, -0.4323,  0.0674,  1.0376]]]),\n",
              " tensor([[[-0.0057,  0.4720,  0.9030,  0.2891],\n",
              "          [-0.5132,  0.5103, -0.9168,  0.1837]],\n",
              " \n",
              "         [[ 3.0144,  2.5445,  0.0621,  1.4230],\n",
              "          [ 1.9739, -0.6299, -1.3949, -1.2555]],\n",
              " \n",
              "         [[-0.7559,  1.0859, -0.7060, -0.2135],\n",
              "          [-1.5860, -0.4323,  0.0674,  1.0376]]]))"
            ]
          },
          "metadata": {},
          "execution_count": 3
        }
      ]
    },
    {
      "cell_type": "code",
      "source": [],
      "metadata": {
        "id": "M_qI-qQ-umzm"
      },
      "execution_count": null,
      "outputs": []
    }
  ]
}