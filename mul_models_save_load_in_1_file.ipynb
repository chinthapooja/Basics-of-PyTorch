{
  "nbformat": 4,
  "nbformat_minor": 0,
  "metadata": {
    "colab": {
      "provenance": []
    },
    "kernelspec": {
      "name": "python3",
      "display_name": "Python 3"
    },
    "language_info": {
      "name": "python"
    }
  },
  "cells": [
    {
      "cell_type": "markdown",
      "source": [
        "**Saving and Loading multiple models in one File**\n"
      ],
      "metadata": {
        "id": "QQndkprA4Qi5"
      }
    },
    {
      "cell_type": "markdown",
      "source": [
        "In pytorch, We can save and load multilple models of same architecture in one file using **torch.save** and **torch.load* functions. It is done by savign it as a dictionary that contains the state dictionaries of all models.\n",
        "\n",
        "Saving Multiple MOdels:\n",
        "```\n",
        "import torch\n",
        "\n",
        "# Assuming you have models named model1, model2, etc.\n",
        "model1 = ...\n",
        "model2 = ...\n",
        "\n",
        "# Create a dictionary to store the state dictionaries of each model\n",
        "models_state_dict = {\n",
        "    'model1': model1.state_dict(),\n",
        "    'model2': model2.state_dict(),\n",
        "    # Add more models if needed\n",
        "}\n",
        "\n",
        "# Save the dictionary to a file\n",
        "torch.save(models_state_dict, 'multiple_models.pth')\n",
        "```\n",
        "\n",
        "Loading Multiple Models:\n",
        "```\n",
        "import torch\n",
        "\n",
        "# Load the dictionary from the file\n",
        "models_state_dict = torch.load('multiple_models.pth')\n",
        "\n",
        "# Create instances of the models\n",
        "model1 = ...\n",
        "model2 = ...\n",
        "\n",
        "# Load the state dictionaries into the models\n",
        "model1.load_state_dict(models_state_dict['model1'])\n",
        "model2.load_state_dict(models_state_dict['model2'])\n",
        "# Repeat for additional models if needed\n",
        "\n",
        "# Make sure to set the models to evaluation mode if not training\n",
        "model1.eval()\n",
        "model2.eval()\n",
        "# Set additional models to evaluation mode if needed\n",
        "\n",
        "```\n",
        "Note:\n",
        "* Make sure that the architecute of the models we are loading matches the architectures of the models saved.\n",
        "* Also save additional informations like optimizer.\n",
        "\n",
        "Reference: https://pytorch.org/tutorials/recipes/recipes/saving_multiple_models_in_one_file.html"
      ],
      "metadata": {
        "id": "KXgK6Mka4YQr"
      }
    },
    {
      "cell_type": "code",
      "execution_count": null,
      "metadata": {
        "id": "IQBZLBjn4Bqv"
      },
      "outputs": [],
      "source": []
    }
  ]
}